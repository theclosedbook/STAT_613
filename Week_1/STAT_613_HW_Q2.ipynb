{
 "cells": [
  {
   "cell_type": "code",
   "execution_count": 3,
   "id": "b29d9286",
   "metadata": {},
   "outputs": [
    {
     "name": "stdout",
     "output_type": "stream",
     "text": [
      "The system of linear equations in matrix form is: \n",
      " A = [[2, 2, 0],[1, 1, 1],[-7, 2, -3]] \n",
      " x = [x1, x2, x3] \n",
      " b = [b1, b2, b3]\n",
      "Determinant: -12.0\n",
      "Inverse:\n",
      " [[ 0.41666667 -0.5        -0.16666667]\n",
      " [ 0.08333333  0.5         0.16666667]\n",
      " [-0.91666667  1.5         0.16666667]]\n",
      "Eigenvalues: [-2.26697461+0.j          2.63348731+1.00241825j  2.63348731-1.00241825j]\n",
      "Eigenvalues represent scaling factors of eigenvectors\n",
      "A is not positive definite because of negative eigenvalue\n"
     ]
    }
   ],
   "source": [
    "import numpy as np\n",
    "\n",
    "# a) Define A matrix and b vector\n",
    "b1=1\n",
    "b2=2\n",
    "b3=3\n",
    "A = np.array([[2, 2, 0],  \n",
    "              [2, 1, 1],\n",
    "              [-7, 2, -3]])\n",
    "\n",
    "b = np.array([b1, b2, b3])\n",
    "print(\"The system of linear equations in matrix form is: \\n A = [[2, 2, 0],[1, 1, 1],[-7, 2, -3]] \\n x = [x1, x2, x3] \\n b = [b1, b2, b3]\")\n",
    "\n",
    "# b) Calculate determinant\n",
    "det_A = np.linalg.det(A)\n",
    "print(\"Determinant:\", det_A)\n",
    "\n",
    "# c) Compute inverse\n",
    "inv_A = np.linalg.inv(A)\n",
    "print(\"Inverse:\\n\", inv_A)\n",
    "\n",
    "# d) Characteristic equation  \n",
    "char_eq = np.poly1d([1, -3, -4, 18])\n",
    "\n",
    "# e) Solve characteristic equation\n",
    "evals = np.roots(char_eq)\n",
    "print(\"Eigenvalues:\", evals)\n",
    "\n",
    "# f) Interpret eigenvalues\n",
    "print(\"Eigenvalues represent scaling factors of eigenvectors\")\n",
    "\n",
    "# g) Check positive definiteness\n",
    "print(\"A is not positive definite because of negative eigenvalue\")"
   ]
  },
  {
   "cell_type": "code",
   "execution_count": 4,
   "id": "0bd3c422",
   "metadata": {},
   "outputs": [
    {
     "name": "stdout",
     "output_type": "stream",
     "text": [
      "Matrix Equation:\n",
      "A * x = b\n",
      "\n",
      "Determinant of A:\n",
      "-12.0\n",
      "\n",
      "Inverse of A:\n",
      "[[ 0.41666667 -0.5        -0.16666667]\n",
      " [ 0.08333333  0.5         0.16666667]\n",
      " [-0.91666667  1.5         0.16666667]]\n",
      "\n",
      "Characteristic Equation:\n",
      "det(A - lambda*I) = 0\n",
      "\n",
      "Eigenvalues of A:\n",
      "[-4.  3.  1.]\n",
      "\n",
      "Interpretation of Eigenvalues:\n",
      "The eigenvalues represent scaling factors that leave the transformed vector in the column space of A.\n",
      "\n",
      "A is positive definite?\n",
      "False\n"
     ]
    }
   ],
   "source": [
    "import numpy as np\n",
    "\n",
    "# Original matrix\n",
    "A = np.array([[2, 2, 0],  \n",
    "              [2, 1, 1],\n",
    "              [-7, 2, -3]])\n",
    "\n",
    "# a) Matrix equation\n",
    "print('Matrix Equation:')\n",
    "print('A * x = b')\n",
    "\n",
    "# b) Calculate determinant\n",
    "det = np.linalg.det(A)\n",
    "print('\\nDeterminant of A:') \n",
    "print(det)\n",
    "\n",
    "# c) Calculate inverse\n",
    "A_inv = np.linalg.inv(A)\n",
    "print('\\nInverse of A:')\n",
    "print(A_inv)\n",
    "\n",
    "# d) Characteristic equation\n",
    "print('\\nCharacteristic Equation:') \n",
    "print('det(A - lambda*I) = 0')\n",
    "\n",
    "# e) Eigenvalues\n",
    "values, vectors = np.linalg.eig(A)\n",
    "print('\\nEigenvalues of A:')\n",
    "print(values)\n",
    "\n",
    "# f) Interpretation\n",
    "print('\\nInterpretation of Eigenvalues:')\n",
    "print('The eigenvalues represent scaling factors that leave the transformed vector in the column space of A.')\n",
    "\n",
    "# g) Positive definiteness \n",
    "print('\\nA is positive definite?')\n",
    "print(np.all(values > 0))"
   ]
  },
  {
   "cell_type": "code",
   "execution_count": null,
   "id": "b73ba2a2",
   "metadata": {},
   "outputs": [],
   "source": []
  }
 ],
 "metadata": {
  "kernelspec": {
   "display_name": "Python 3 (ipykernel)",
   "language": "python",
   "name": "python3"
  },
  "language_info": {
   "codemirror_mode": {
    "name": "ipython",
    "version": 3
   },
   "file_extension": ".py",
   "mimetype": "text/x-python",
   "name": "python",
   "nbconvert_exporter": "python",
   "pygments_lexer": "ipython3",
   "version": "3.9.13"
  }
 },
 "nbformat": 4,
 "nbformat_minor": 5
}
